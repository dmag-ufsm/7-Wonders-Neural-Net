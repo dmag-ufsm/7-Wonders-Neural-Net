{
  "nbformat": 4,
  "nbformat_minor": 0,
  "metadata": {
    "colab": {
      "name": "nn7Wonders.ipynb",
      "provenance": [],
      "collapsed_sections": []
    },
    "kernelspec": {
      "name": "python3",
      "display_name": "Python 3"
    }
  },
  "cells": [
    {
      "cell_type": "code",
      "metadata": {
        "id": "Ph18rpee-7N5",
        "colab_type": "code",
        "colab": {}
      },
      "source": [
        "import torch \n",
        "import torch.nn as nn \n",
        "import torch.nn.functional as F"
      ],
      "execution_count": 0,
      "outputs": []
    },
    {
      "cell_type": "code",
      "metadata": {
        "id": "EVaIJA8hkrtP",
        "colab_type": "code",
        "colab": {}
      },
      "source": [
        "class Net(nn.Module):\n",
        "  def __init__(self, input_size, hidden_size, num_classes):\n",
        "    super(Net, self).__init__()\n",
        "    self.net = nn.Sequential(\n",
        "        nn.Linear(input_size, hidden_size),\n",
        "        nn.Sigmoid(),\n",
        "        nn.Linear(hidden_size, num_classes)\n",
        "    )\n",
        "  \n",
        "  def forward(self, x):\n",
        "    x = self.net(x)\n",
        "    return x"
      ],
      "execution_count": 0,
      "outputs": []
    },
    {
      "cell_type": "code",
      "metadata": {
        "id": "mfzfN4PFlsNE",
        "colab_type": "code",
        "outputId": "f8269a45-469d-49f8-bc2b-8f9e686c5113",
        "colab": {
          "base_uri": "https://localhost:8080/",
          "height": 136
        }
      },
      "source": [
        "model = Net(21, 42, 21)\n",
        "print(model)"
      ],
      "execution_count": 0,
      "outputs": [
        {
          "output_type": "stream",
          "text": [
            "Net(\n",
            "  (net): Sequential(\n",
            "    (0): Linear(in_features=21, out_features=42, bias=True)\n",
            "    (1): ReLU()\n",
            "    (2): Linear(in_features=42, out_features=21, bias=True)\n",
            "  )\n",
            ")\n"
          ],
          "name": "stdout"
        }
      ]
    },
    {
      "cell_type": "code",
      "metadata": {
        "id": "mjoyL_WsnxWx",
        "colab_type": "code",
        "outputId": "b9ebef90-a130-41eb-9ac2-f13b5372183d",
        "colab": {
          "base_uri": "https://localhost:8080/",
          "height": 255
        }
      },
      "source": [
        "batch_size, input_size, hidden_size, num_classes = 64, 21, 42, 21\n",
        "\n",
        "# Create random tensors for tests\n",
        "x = torch.randn(batch_size, input_size)\n",
        "y = torch.randn(batch_size, num_classes)\n",
        "\n",
        "print(x)\n",
        "print(y)"
      ],
      "execution_count": 0,
      "outputs": [
        {
          "output_type": "stream",
          "text": [
            "tensor([[ 0.0910,  0.4598,  0.2158,  ...,  0.9438,  0.3488,  1.2730],\n",
            "        [ 1.0073, -1.0071, -0.4459,  ..., -1.4446, -0.6457, -1.5652],\n",
            "        [ 2.7625, -1.7532, -0.8832,  ..., -0.5274,  0.1947,  1.4953],\n",
            "        ...,\n",
            "        [ 0.6847,  0.9698, -0.1879,  ..., -1.2788,  0.0153,  0.4791],\n",
            "        [-1.6070,  1.4642,  0.0287,  ..., -0.9383, -0.4634,  0.3188],\n",
            "        [ 0.0337,  0.2123,  1.5603,  ..., -0.2665, -0.9407,  1.9002]])\n",
            "tensor([[ 0.9957, -1.0180, -1.3377,  ..., -0.6226, -0.5463, -1.2568],\n",
            "        [ 0.5280, -0.9233,  0.9536,  ...,  1.2401, -0.2108,  1.1961],\n",
            "        [-0.7039, -0.2181,  0.2512,  ...,  1.9857, -0.9960, -1.7665],\n",
            "        ...,\n",
            "        [ 0.1528, -1.9758, -0.9236,  ...,  1.2410,  0.6618,  0.2849],\n",
            "        [ 0.2097, -0.0584, -1.0029,  ..., -0.4281, -0.9473, -0.1672],\n",
            "        [ 0.1373, -0.8840,  0.4091,  ...,  1.5113, -0.3104, -1.4985]])\n"
          ],
          "name": "stdout"
        }
      ]
    },
    {
      "cell_type": "markdown",
      "metadata": {
        "id": "Ec_vXia7WML8",
        "colab_type": "text"
      },
      "source": [
        ""
      ]
    },
    {
      "cell_type": "code",
      "metadata": {
        "id": "ODt2RGUyo0T5",
        "colab_type": "code",
        "outputId": "da6376ef-55f9-4a3e-f9f4-4f2c0d41b9fb",
        "colab": {
          "base_uri": "https://localhost:8080/",
          "height": 102
        }
      },
      "source": [
        "criterion = torch.nn.MSELoss(reduction='sum')\n",
        "optimizer = torch.optim.SGD(model.parameters(), lr=1e-4)\n",
        "for t in range(500):\n",
        "  out = model(x)\n",
        "\n",
        "  # compute and print loss\n",
        "  loss = criterion(out, y)\n",
        "  if t % 100 == 99:\n",
        "    print(t, loss.item())\n",
        "  \n",
        "  # zero gradients, perform \n",
        "  optimizer.zero_grad()\n",
        "  loss.backward()\n",
        "  optimizer.step()"
      ],
      "execution_count": 0,
      "outputs": [
        {
          "output_type": "stream",
          "text": [
            "99 1018.5098266601562\n",
            "199 825.0293579101562\n",
            "299 683.4174194335938\n",
            "399 574.2615966796875\n",
            "499 483.2620544433594\n"
          ],
          "name": "stdout"
        }
      ]
    },
    {
      "cell_type": "code",
      "metadata": {
        "id": "EQF3W04OJXoN",
        "colab_type": "code",
        "colab": {}
      },
      "source": [
        ""
      ],
      "execution_count": 0,
      "outputs": []
    }
  ]
}